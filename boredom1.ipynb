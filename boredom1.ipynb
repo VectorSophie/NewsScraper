{
  "nbformat": 4,
  "nbformat_minor": 0,
  "metadata": {
    "colab": {
      "provenance": [],
      "gpuType": "T4",
      "authorship_tag": "ABX9TyM2+2bVVwmkkhoMOMw05afa",
      "include_colab_link": true
    },
    "kernelspec": {
      "name": "python3",
      "display_name": "Python 3"
    },
    "language_info": {
      "name": "python"
    },
    "accelerator": "GPU"
  },
  "cells": [
    {
      "cell_type": "markdown",
      "metadata": {
        "id": "view-in-github",
        "colab_type": "text"
      },
      "source": [
        "<a href=\"https://colab.research.google.com/github/VectorSophie/PyEx/blob/main/boredom1.ipynb\" target=\"_parent\"><img src=\"https://colab.research.google.com/assets/colab-badge.svg\" alt=\"Open In Colab\"/></a>"
      ]
    },
    {
      "cell_type": "code",
      "execution_count": null,
      "metadata": {
        "id": "OwP5qMojp-3h"
      },
      "outputs": [],
      "source": [
        "from google.colab import drive\n",
        "from tensorflow.keras.models import Sequential\n",
        "from tensorflow.keras.layers import Dense\n",
        "import numpy as np"
      ]
    },
    {
      "cell_type": "code",
      "source": [
        "drive.mount('/content/drive')\n",
        "\n",
        "data_set = np.loadtxt('/content/drive/MyDrive/Colab Notebooks/data/ThoraricSurgery3.csv', delimiter= ',')\n",
        "\n",
        "x = data_set[:, 0:16]\n",
        "y = data_set[:, 16]"
      ],
      "metadata": {
        "colab": {
          "base_uri": "https://localhost:8080/"
        },
        "id": "Q_-0yjrEqjiq",
        "outputId": "08c280d5-11ea-495c-cd56-e7636bda1335"
      },
      "execution_count": null,
      "outputs": [
        {
          "output_type": "stream",
          "name": "stdout",
          "text": [
            "Mounted at /content/drive\n"
          ]
        }
      ]
    },
    {
      "cell_type": "code",
      "source": [
        "model = Sequential()\n",
        "model.add(Dense(30, input_dim = 16, activation = 'relu'))\n",
        "model.add(Dense(1, activation ='sigmoid'))"
      ],
      "metadata": {
        "id": "S8lwWB3XtiLl"
      },
      "execution_count": null,
      "outputs": []
    },
    {
      "cell_type": "code",
      "source": [
        "model.compile(loss= 'binary_crossentropy', optimizer ='adam', metrics = ['accuracy'] )\n",
        "history = model.fit(x,y, epochs = 5, batch_size = 16)"
      ],
      "metadata": {
        "colab": {
          "base_uri": "https://localhost:8080/"
        },
        "id": "5HWcC9ZguFFd",
        "outputId": "4272741b-cc70-4309-ad42-e4537ea48821"
      },
      "execution_count": null,
      "outputs": [
        {
          "output_type": "stream",
          "name": "stdout",
          "text": [
            "Epoch 1/5\n",
            "30/30 [==============================] - 2s 3ms/step - loss: 0.6158 - accuracy: 0.8255\n",
            "Epoch 2/5\n",
            "30/30 [==============================] - 0s 3ms/step - loss: 0.4428 - accuracy: 0.8447\n",
            "Epoch 3/5\n",
            "30/30 [==============================] - 0s 3ms/step - loss: 0.4264 - accuracy: 0.8489\n",
            "Epoch 4/5\n",
            "30/30 [==============================] - 0s 3ms/step - loss: 0.4248 - accuracy: 0.8426\n",
            "Epoch 5/5\n",
            "30/30 [==============================] - 0s 3ms/step - loss: 0.4392 - accuracy: 0.8468\n"
          ]
        }
      ]
    },
    {
      "cell_type": "code",
      "source": [],
      "metadata": {
        "id": "q_HrWWOsudN0"
      },
      "execution_count": null,
      "outputs": []
    }
  ]
}